{
 "cells": [
  {
   "cell_type": "code",
   "execution_count": 1,
   "id": "d0264d74",
   "metadata": {},
   "outputs": [],
   "source": [
    "import numpy as np\n",
    "from numpy.random import randn"
   ]
  },
  {
   "cell_type": "code",
   "execution_count": 2,
   "id": "b0ca3334",
   "metadata": {},
   "outputs": [
    {
     "name": "stdout",
     "output_type": "stream",
     "text": [
      "0.7\n"
     ]
    }
   ],
   "source": [
    "N = 100\n",
    "counter = 0\n",
    "for X in randn (N):\n",
    "    if (X > -1 and X < 1):\n",
    "        counter = counter + 1\n",
    "answer = counter / N\n",
    "print (answer)"
   ]
  },
  {
   "cell_type": "code",
   "execution_count": 4,
   "id": "9f587e88",
   "metadata": {},
   "outputs": [
    {
     "data": {
      "text/plain": [
       "-0.7827302416218719"
      ]
     },
     "execution_count": 4,
     "metadata": {},
     "output_type": "execute_result"
    }
   ],
   "source": [
    "randn()"
   ]
  },
  {
   "cell_type": "code",
   "execution_count": null,
   "id": "79da795b",
   "metadata": {},
   "outputs": [],
   "source": []
  }
 ],
 "metadata": {
  "kernelspec": {
   "display_name": "Python 3 (ipykernel)",
   "language": "python",
   "name": "python3"
  },
  "language_info": {
   "codemirror_mode": {
    "name": "ipython",
    "version": 3
   },
   "file_extension": ".py",
   "mimetype": "text/x-python",
   "name": "python",
   "nbconvert_exporter": "python",
   "pygments_lexer": "ipython3",
   "version": "3.10.9"
  }
 },
 "nbformat": 4,
 "nbformat_minor": 5
}
