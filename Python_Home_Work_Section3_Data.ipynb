{
 "cells": [
  {
   "cell_type": "code",
   "execution_count": 1,
   "metadata": {},
   "outputs": [],
   "source": [
    "#Data \n",
    "revenue = [14574.49, 7606.46, 8611.41, 9175.41, 8058.65, 8105.44, 11496.28, 9766.09, 10305.32, 14379.96, 10713.97, 15433.50]\n",
    "expenses = [12051.82, 5695.07, 12319.20, 12089.72, 8658.57, 840.20, 3285.73, 5821.12, 6976.93, 16618.61, 10054.37, 3803.96]"
   ]
  },
  {
   "cell_type": "code",
   "execution_count": 2,
   "metadata": {},
   "outputs": [
    {
     "name": "stdout",
     "output_type": "stream",
     "text": [
      "[2522.67, 1911.3900000000003, -3707.790000000001, -2914.3099999999995, -599.9200000000001, 7265.24, 8210.550000000001, 3944.9700000000003, 3328.3899999999994, -2238.6500000000015, 659.5999999999985, 11629.54]\n"
     ]
    }
   ],
   "source": [
    "profit = []\n",
    "for i in range(0, len(revenue)):\n",
    "    profit.append(revenue[i] - expenses[i])\n",
    "\n",
    "print(profit)"
   ]
  },
  {
   "cell_type": "code",
   "execution_count": 3,
   "metadata": {},
   "outputs": [],
   "source": [
    "revenue_after_tax = [(i - 0.3*i) for i in revenue]"
   ]
  },
  {
   "cell_type": "code",
   "execution_count": 4,
   "metadata": {},
   "outputs": [
    {
     "name": "stdout",
     "output_type": "stream",
     "text": [
      "[10202.143, 5324.522, 6027.987, 6422.787, 5641.055, 5673.808, 8047.396000000001, 6836.263000000001, 7213.724, 10065.972, 7499.7789999999995, 10803.45]\n"
     ]
    }
   ],
   "source": [
    "print(revenue_after_tax)"
   ]
  },
  {
   "cell_type": "code",
   "execution_count": 6,
   "metadata": {},
   "outputs": [
    {
     "name": "stdout",
     "output_type": "stream",
     "text": [
      "[-1849.6769999999997, -370.5479999999998, -6291.213000000001, -5666.932999999999, -3017.5149999999994, 4833.608, 4761.666000000001, 1015.1430000000009, 236.79399999999987, -6552.638000000001, -2554.5910000000013, 6999.490000000001]\n"
     ]
    }
   ],
   "source": [
    "profit_after_tax = []\n",
    "for i in range(0, len(revenue_after_tax)):\n",
    "    profit_after_tax.append(revenue_after_tax[i] - expenses[i])\n",
    "\n",
    "print(profit_after_tax)"
   ]
  },
  {
   "cell_type": "code",
   "execution_count": 7,
   "metadata": {},
   "outputs": [],
   "source": [
    "profit_margin = []\n",
    "for i in range(0, len(profit_after_tax)):\n",
    "    profit_margin.append(profit_after_tax[i] / revenue[i])"
   ]
  },
  {
   "cell_type": "code",
   "execution_count": 8,
   "metadata": {},
   "outputs": [
    {
     "name": "stdout",
     "output_type": "stream",
     "text": [
      "[-0.12691195369443456, -0.048714908117573716, -0.730567119670298, -0.6176217738498878, -0.37444423073343547, 0.5963412226850116, 0.4141918951173772, 0.10394569372184784, 0.022977840571665884, -0.4556784580763786, -0.2384355192333002, 0.45352577185991516]\n"
     ]
    }
   ],
   "source": [
    "print(profit_margin)"
   ]
  },
  {
   "cell_type": "code",
   "execution_count": 9,
   "metadata": {},
   "outputs": [
    {
     "name": "stdout",
     "output_type": "stream",
     "text": [
      "-704.7011666666664\n"
     ]
    }
   ],
   "source": [
    "mean = sum(profit_after_tax)/len(profit_after_tax)\n",
    "print(mean)"
   ]
  },
  {
   "cell_type": "code",
   "execution_count": 11,
   "metadata": {},
   "outputs": [
    {
     "name": "stdout",
     "output_type": "stream",
     "text": [
      "Good months are:  [-370.5479999999998, 4833.608, 4761.666000000001, 1015.1430000000009, 236.79399999999987, 6999.490000000001]\n",
      "Bad months are:  [-1849.6769999999997, -6291.213000000001, -5666.932999999999, -3017.5149999999994, -6552.638000000001, -2554.5910000000013]\n"
     ]
    }
   ],
   "source": [
    "good_months = []\n",
    "bad_months = []\n",
    "for i in range(0, len(profit_after_tax)):\n",
    "    if(profit_after_tax[i]) > mean:\n",
    "        good_months.append(profit_after_tax[i])\n",
    "    else:\n",
    "        bad_months.append(profit_after_tax[i])\n",
    "        \n",
    "print(\"Good months are: \", good_months)\n",
    "print(\"Bad months are: \", bad_months)\n",
    "        "
   ]
  },
  {
   "cell_type": "code",
   "execution_count": 13,
   "metadata": {},
   "outputs": [
    {
     "name": "stdout",
     "output_type": "stream",
     "text": [
      "6999.490000000001\n"
     ]
    }
   ],
   "source": [
    "best_month = max(profit_after_tax)\n",
    "print(best_month)"
   ]
  },
  {
   "cell_type": "code",
   "execution_count": 14,
   "metadata": {},
   "outputs": [
    {
     "name": "stdout",
     "output_type": "stream",
     "text": [
      "-6552.638000000001\n"
     ]
    }
   ],
   "source": [
    "worst_month = min(profit_after_tax)\n",
    "print(worst_month)"
   ]
  },
  {
   "cell_type": "code",
   "execution_count": null,
   "metadata": {},
   "outputs": [],
   "source": []
  }
 ],
 "metadata": {
  "kernelspec": {
   "display_name": "Python 3 (ipykernel)",
   "language": "python",
   "name": "python3"
  },
  "language_info": {
   "codemirror_mode": {
    "name": "ipython",
    "version": 3
   },
   "file_extension": ".py",
   "mimetype": "text/x-python",
   "name": "python",
   "nbconvert_exporter": "python",
   "pygments_lexer": "ipython3",
   "version": "3.10.9"
  }
 },
 "nbformat": 4,
 "nbformat_minor": 1
}
